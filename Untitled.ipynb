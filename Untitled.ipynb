{
 "cells": [
  {
   "cell_type": "markdown",
   "metadata": {},
   "source": [
    "### Tutorial 1 checks"
   ]
  },
  {
   "cell_type": "code",
   "execution_count": 1,
   "metadata": {
    "collapsed": true
   },
   "outputs": [],
   "source": [
    "%matplotlib inline\n",
    "import matplotlib.pyplot as plt\n",
    "import numpy as np"
   ]
  },
  {
   "cell_type": "code",
   "execution_count": 3,
   "metadata": {},
   "outputs": [],
   "source": [
    "v = np.array([[1],[2]])\n",
    "b = 5\n",
    "delta = 0.025\n",
    "x = np.arange(-3.0, 3.0, delta)\n",
    "y = np.arange(-2.0, 2.0, delta)\n",
    "X, Y = np.meshgrid(x, y)\n",
    "Z = 1/np.exp(X+2*Y + 5)\n"
   ]
  },
  {
   "cell_type": "code",
   "execution_count": 5,
   "metadata": {},
   "outputs": [
    {
     "data": {
      "text/plain": [
       "<a list of 3 text.Text objects>"
      ]
     },
     "execution_count": 5,
     "metadata": {},
     "output_type": "execute_result"
    },
    {
     "data": {
      "image/png": "[encoded data removed]",
      "text/plain": [
       "<matplotlib.figure.Figure at 0x118847790>"
      ]
     },
     "metadata": {},
     "output_type": "display_data"
    }
   ],
   "source": [
    "fig, ax = plt.subplots()\n",
    "CS = ax.contour(X, Y, Z)\n",
    "ax.clabel(CS, inline=1, fontsize=10)\n"
   ]
  },
  {
   "cell_type": "code",
   "execution_count": 16,
   "metadata": {
    "scrolled": true
   },
   "outputs": [
    {
     "data": {
      "text/plain": [
       "array([-3.0000000e+00, -2.9750000e+00, -2.9500000e+00, -2.9250000e+00,\n",
       "       -2.9000000e+00, -2.8750000e+00, -2.8500000e+00, -2.8250000e+00,\n",
       "       -2.8000000e+00, -2.7750000e+00, -2.7500000e+00, -2.7250000e+00,\n",
       "       -2.7000000e+00, -2.6750000e+00, -2.6500000e+00, -2.6250000e+00,\n",
       "       -2.6000000e+00, -2.5750000e+00, -2.5500000e+00, -2.5250000e+00,\n",
       "       -2.5000000e+00, -2.4750000e+00, -2.4500000e+00, -2.4250000e+00,\n",
       "       -2.4000000e+00, -2.3750000e+00, -2.3500000e+00, -2.3250000e+00,\n",
       "       -2.3000000e+00, -2.2750000e+00, -2.2500000e+00, -2.2250000e+00,\n",
       "       -2.2000000e+00, -2.1750000e+00, -2.1500000e+00, -2.1250000e+00,\n",
       "       -2.1000000e+00, -2.0750000e+00, -2.0500000e+00, -2.0250000e+00,\n",
       "       -2.0000000e+00, -1.9750000e+00, -1.9500000e+00, -1.9250000e+00,\n",
       "       -1.9000000e+00, -1.8750000e+00, -1.8500000e+00, -1.8250000e+00,\n",
       "       -1.8000000e+00, -1.7750000e+00, -1.7500000e+00, -1.7250000e+00,\n",
       "       -1.7000000e+00, -1.6750000e+00, -1.6500000e+00, -1.6250000e+00,\n",
       "       -1.6000000e+00, -1.5750000e+00, -1.5500000e+00, -1.5250000e+00,\n",
       "       -1.5000000e+00, -1.4750000e+00, -1.4500000e+00, -1.4250000e+00,\n",
       "       -1.4000000e+00, -1.3750000e+00, -1.3500000e+00, -1.3250000e+00,\n",
       "       -1.3000000e+00, -1.2750000e+00, -1.2500000e+00, -1.2250000e+00,\n",
       "       -1.2000000e+00, -1.1750000e+00, -1.1500000e+00, -1.1250000e+00,\n",
       "       -1.1000000e+00, -1.0750000e+00, -1.0500000e+00, -1.0250000e+00,\n",
       "       -1.0000000e+00, -9.7500000e-01, -9.5000000e-01, -9.2500000e-01,\n",
       "       -9.0000000e-01, -8.7500000e-01, -8.5000000e-01, -8.2500000e-01,\n",
       "       -8.0000000e-01, -7.7500000e-01, -7.5000000e-01, -7.2500000e-01,\n",
       "       -7.0000000e-01, -6.7500000e-01, -6.5000000e-01, -6.2500000e-01,\n",
       "       -6.0000000e-01, -5.7500000e-01, -5.5000000e-01, -5.2500000e-01,\n",
       "       -5.0000000e-01, -4.7500000e-01, -4.5000000e-01, -4.2500000e-01,\n",
       "       -4.0000000e-01, -3.7500000e-01, -3.5000000e-01, -3.2500000e-01,\n",
       "       -3.0000000e-01, -2.7500000e-01, -2.5000000e-01, -2.2500000e-01,\n",
       "       -2.0000000e-01, -1.7500000e-01, -1.5000000e-01, -1.2500000e-01,\n",
       "       -1.0000000e-01, -7.5000000e-02, -5.0000000e-02, -2.5000000e-02,\n",
       "       -1.0658141e-14,  2.5000000e-02,  5.0000000e-02,  7.5000000e-02,\n",
       "        1.0000000e-01,  1.2500000e-01,  1.5000000e-01,  1.7500000e-01,\n",
       "        2.0000000e-01,  2.2500000e-01,  2.5000000e-01,  2.7500000e-01,\n",
       "        3.0000000e-01,  3.2500000e-01,  3.5000000e-01,  3.7500000e-01,\n",
       "        4.0000000e-01,  4.2500000e-01,  4.5000000e-01,  4.7500000e-01,\n",
       "        5.0000000e-01,  5.2500000e-01,  5.5000000e-01,  5.7500000e-01,\n",
       "        6.0000000e-01,  6.2500000e-01,  6.5000000e-01,  6.7500000e-01,\n",
       "        7.0000000e-01,  7.2500000e-01,  7.5000000e-01,  7.7500000e-01,\n",
       "        8.0000000e-01,  8.2500000e-01,  8.5000000e-01,  8.7500000e-01,\n",
       "        9.0000000e-01,  9.2500000e-01,  9.5000000e-01,  9.7500000e-01,\n",
       "        1.0000000e+00,  1.0250000e+00,  1.0500000e+00,  1.0750000e+00,\n",
       "        1.1000000e+00,  1.1250000e+00,  1.1500000e+00,  1.1750000e+00,\n",
       "        1.2000000e+00,  1.2250000e+00,  1.2500000e+00,  1.2750000e+00,\n",
       "        1.3000000e+00,  1.3250000e+00,  1.3500000e+00,  1.3750000e+00,\n",
       "        1.4000000e+00,  1.4250000e+00,  1.4500000e+00,  1.4750000e+00,\n",
       "        1.5000000e+00,  1.5250000e+00,  1.5500000e+00,  1.5750000e+00,\n",
       "        1.6000000e+00,  1.6250000e+00,  1.6500000e+00,  1.6750000e+00,\n",
       "        1.7000000e+00,  1.7250000e+00,  1.7500000e+00,  1.7750000e+00,\n",
       "        1.8000000e+00,  1.8250000e+00,  1.8500000e+00,  1.8750000e+00,\n",
       "        1.9000000e+00,  1.9250000e+00,  1.9500000e+00,  1.9750000e+00,\n",
       "        2.0000000e+00,  2.0250000e+00,  2.0500000e+00,  2.0750000e+00,\n",
       "        2.1000000e+00,  2.1250000e+00,  2.1500000e+00,  2.1750000e+00,\n",
       "        2.2000000e+00,  2.2250000e+00,  2.2500000e+00,  2.2750000e+00,\n",
       "        2.3000000e+00,  2.3250000e+00,  2.3500000e+00,  2.3750000e+00,\n",
       "        2.4000000e+00,  2.4250000e+00,  2.4500000e+00,  2.4750000e+00,\n",
       "        2.5000000e+00,  2.5250000e+00,  2.5500000e+00,  2.5750000e+00,\n",
       "        2.6000000e+00,  2.6250000e+00,  2.6500000e+00,  2.6750000e+00,\n",
       "        2.7000000e+00,  2.7250000e+00,  2.7500000e+00,  2.7750000e+00,\n",
       "        2.8000000e+00,  2.8250000e+00,  2.8500000e+00,  2.8750000e+00,\n",
       "        2.9000000e+00,  2.9250000e+00,  2.9500000e+00,  2.9750000e+00])"
      ]
     },
     "execution_count": 16,
     "metadata": {},
     "output_type": "execute_result"
    }
   ],
   "source": [
    "X[0]"
   ]
  },
  {
   "cell_type": "code",
   "execution_count": 25,
   "metadata": {},
   "outputs": [
    {
     "data": {
      "text/plain": [
       "(160, 240)"
      ]
     },
     "execution_count": 25,
     "metadata": {},
     "output_type": "execute_result"
    }
   ],
   "source": [
    "X.shape"
   ]
  },
  {
   "cell_type": "code",
   "execution_count": 26,
   "metadata": {},
   "outputs": [
    {
     "data": {
      "text/plain": [
       "(160, 240)"
      ]
     },
     "execution_count": 26,
     "metadata": {},
     "output_type": "execute_result"
    }
   ],
   "source": [
    "Y.shape"
   ]
  },
  {
   "cell_type": "code",
   "execution_count": 13,
   "metadata": {},
   "outputs": [
    {
     "data": {
      "text/plain": [
       "(240,)"
      ]
     },
     "execution_count": 13,
     "metadata": {},
     "output_type": "execute_result"
    }
   ],
   "source": [
    "x.shape"
   ]
  },
  {
   "cell_type": "code",
   "execution_count": 14,
   "metadata": {},
   "outputs": [
    {
     "data": {
      "text/plain": [
       "(160,)"
      ]
     },
     "execution_count": 14,
     "metadata": {},
     "output_type": "execute_result"
    }
   ],
   "source": [
    "y.shape"
   ]
  },
  {
   "cell_type": "code",
   "execution_count": null,
   "metadata": {
    "collapsed": true
   },
   "outputs": [],
   "source": []
  }
 ],
 "metadata": {
  "kernelspec": {
   "display_name": "Python 2",
   "language": "python",
   "name": "python2"
  },
  "language_info": {
   "codemirror_mode": {
    "name": "ipython",
    "version": 2
   },
   "file_extension": ".py",
   "mimetype": "text/x-python",
   "name": "python",
   "nbconvert_exporter": "python",
   "pygments_lexer": "ipython2",
   "version": "2.7.13"
  }
 },
 "nbformat": 4,
 "nbformat_minor": 2
}
